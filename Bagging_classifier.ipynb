{
  "nbformat": 4,
  "nbformat_minor": 0,
  "metadata": {
    "colab": {
      "name": "Bagging_classifier.ipynb",
      "provenance": [],
      "collapsed_sections": [],
      "authorship_tag": "ABX9TyMtoYIAsUZ/k0dlEm/zkIiZ",
      "include_colab_link": true
    },
    "kernelspec": {
      "name": "python3",
      "display_name": "Python 3"
    },
    "language_info": {
      "name": "python"
    }
  },
  "cells": [
    {
      "cell_type": "markdown",
      "metadata": {
        "id": "view-in-github",
        "colab_type": "text"
      },
      "source": [
        "<a href=\"https://colab.research.google.com/github/pks98/Pracfiles/blob/main/Bagging_classifier.ipynb\" target=\"_parent\"><img src=\"https://colab.research.google.com/assets/colab-badge.svg\" alt=\"Open In Colab\"/></a>"
      ]
    },
    {
      "cell_type": "code",
      "execution_count": 3,
      "metadata": {
        "id": "n8_jTqshUoT6"
      },
      "outputs": [],
      "source": [
        "from sklearn.datasets import make_classification\n",
        "from sklearn.model_selection import train_test_split\n",
        "from sklearn.metrics import accuracy_score"
      ]
    },
    {
      "cell_type": "code",
      "source": [
        "x,y=make_classification(n_samples=5000,n_features=5)"
      ],
      "metadata": {
        "id": "qDV2_WgoVqo_"
      },
      "execution_count": 4,
      "outputs": []
    },
    {
      "cell_type": "code",
      "source": [
        "x"
      ],
      "metadata": {
        "colab": {
          "base_uri": "https://localhost:8080/"
        },
        "id": "1bmzjODmVq2Z",
        "outputId": "bead739a-0438-4641-9d00-822ad0ced3d4"
      },
      "execution_count": 11,
      "outputs": [
        {
          "output_type": "execute_result",
          "data": {
            "text/plain": [
              "array([[-0.80036373,  0.3225541 ,  0.79044376, -1.42691087,  1.14874606],\n",
              "       [-0.23751266,  0.21203921,  0.24376555, -0.30108156, -1.21575381],\n",
              "       [-1.23578641,  1.78977868,  1.32260053, -0.84433791, -0.55949365],\n",
              "       ...,\n",
              "       [ 1.00900692, -0.80624819, -1.02809574,  1.37851552, -1.49923865],\n",
              "       [-1.1715985 ,  1.40861277,  1.23111684, -1.10365867,  0.01662876],\n",
              "       [ 0.94218624, -1.1872328 , -0.99435467,  0.83027893, -0.91202574]])"
            ]
          },
          "metadata": {},
          "execution_count": 11
        }
      ]
    },
    {
      "cell_type": "code",
      "source": [
        "y"
      ],
      "metadata": {
        "colab": {
          "base_uri": "https://localhost:8080/"
        },
        "id": "bKWrge_qVq4O",
        "outputId": "f14f1dec-2c08-45f2-ef83-2b40fa01fe72"
      },
      "execution_count": 12,
      "outputs": [
        {
          "output_type": "execute_result",
          "data": {
            "text/plain": [
              "array([0, 0, 0, ..., 1, 0, 1])"
            ]
          },
          "metadata": {},
          "execution_count": 12
        }
      ]
    },
    {
      "cell_type": "code",
      "source": [
        "x_train,x_test,y_train,y_test=train_test_split(x,y,test_size=0.2,random_state=5)"
      ],
      "metadata": {
        "id": "32-Vx3i7Vq7X"
      },
      "execution_count": 13,
      "outputs": []
    },
    {
      "cell_type": "code",
      "source": [
        "x_train.shape,x_test.shape"
      ],
      "metadata": {
        "colab": {
          "base_uri": "https://localhost:8080/"
        },
        "id": "BfDyv8iCVq-a",
        "outputId": "5269f7a1-8204-4ef3-c106-3db17a3ab34f"
      },
      "execution_count": 14,
      "outputs": [
        {
          "output_type": "execute_result",
          "data": {
            "text/plain": [
              "((4000, 5), (1000, 5))"
            ]
          },
          "metadata": {},
          "execution_count": 14
        }
      ]
    },
    {
      "cell_type": "markdown",
      "source": [
        "# DecisionTreeClassifier\n",
        "\n",
        "\n"
      ],
      "metadata": {
        "id": "By-lLw_hZXdG"
      }
    },
    {
      "cell_type": "code",
      "source": [
        "from sklearn.tree import DecisionTreeClassifier\n",
        "\n",
        "dt=DecisionTreeClassifier()\n",
        "dt.fit(x_train,y_train)\n",
        "pred=dt.predict(x_test)\n",
        "print('The acuuracy is: ',accuracy_score(y_test,pred))"
      ],
      "metadata": {
        "colab": {
          "base_uri": "https://localhost:8080/"
        },
        "id": "RWxFwBKaVrBT",
        "outputId": "1654a0e8-7d27-4fdc-b129-edef754ede22"
      },
      "execution_count": 15,
      "outputs": [
        {
          "output_type": "stream",
          "name": "stdout",
          "text": [
            "The acuuracy is:  0.949\n"
          ]
        }
      ]
    },
    {
      "cell_type": "markdown",
      "source": [
        "# SVC"
      ],
      "metadata": {
        "id": "gxh9dCoJZQ0O"
      }
    },
    {
      "cell_type": "code",
      "source": [
        "from sklearn.svm import SVC\n",
        "\n",
        "svc=SVC()\n",
        "svc.fit(x_train,y_train)\n",
        "svc_pred=svc.predict(x_test)\n",
        "print(\"the accuracy is: \",accuracy_score(y_test,svc_pred))"
      ],
      "metadata": {
        "colab": {
          "base_uri": "https://localhost:8080/"
        },
        "id": "zxHoA_VFVrEZ",
        "outputId": "4540341a-4a1c-48d7-eed1-46f5e5e5ebfc"
      },
      "execution_count": 16,
      "outputs": [
        {
          "output_type": "stream",
          "name": "stdout",
          "text": [
            "the accuracy is:  0.954\n"
          ]
        }
      ]
    },
    {
      "cell_type": "markdown",
      "source": [
        "# Bagging using DecissionTree"
      ],
      "metadata": {
        "id": "5kuaDnTsZc-f"
      }
    },
    {
      "cell_type": "code",
      "source": [
        "from sklearn.ensemble import BaggingClassifier\n",
        "\n",
        "bg=BaggingClassifier(base_estimator=dt,n_estimators=100,max_samples=0.2,bootstrap=True)\n",
        "bg.fit(x_train,y_train)\n",
        "dt_bagging_pred=bg.predict(x_test)\n",
        "print('accuracy is: ',accuracy_score(y_test,dt_bagging_pred))"
      ],
      "metadata": {
        "colab": {
          "base_uri": "https://localhost:8080/"
        },
        "id": "4VVANFJrVrHT",
        "outputId": "ee57428c-a300-4f4f-a7ef-4c27d3b71784"
      },
      "execution_count": 18,
      "outputs": [
        {
          "output_type": "stream",
          "name": "stdout",
          "text": [
            "accuracy is:  0.966\n"
          ]
        }
      ]
    },
    {
      "cell_type": "markdown",
      "source": [
        "The accuracy of the model is increased after using the **bagging** technique"
      ],
      "metadata": {
        "id": "MERPcGb7a07D"
      }
    },
    {
      "cell_type": "markdown",
      "source": [
        "# Bagging using SVC"
      ],
      "metadata": {
        "id": "tUcsPEGQbU_i"
      }
    },
    {
      "cell_type": "code",
      "source": [
        "from sklearn.ensemble import BaggingClassifier\n",
        "\n",
        "bg_svc=BaggingClassifier(base_estimator=svc,n_estimators=100,max_samples=0.2,bootstrap=True)\n",
        "bg_svc.fit(x_train,y_train)\n",
        "bg_svc_pred=bg_svc.predict(x_test)\n",
        "print(\"The accuracy is: \",accuracy_score(y_test,bg_svc_pred))"
      ],
      "metadata": {
        "colab": {
          "base_uri": "https://localhost:8080/"
        },
        "id": "xNW8B1ZKVrKX",
        "outputId": "897df4ae-e668-491d-9e6d-56306f5bb7ce"
      },
      "execution_count": 20,
      "outputs": [
        {
          "output_type": "stream",
          "name": "stdout",
          "text": [
            "The accuracy is:  0.953\n"
          ]
        }
      ]
    },
    {
      "cell_type": "markdown",
      "source": [
        "There are no improvments in the **bagging** techinque using the **SVC** model"
      ],
      "metadata": {
        "id": "k6fIMwBBc5tx"
      }
    },
    {
      "cell_type": "code",
      "source": [
        "bag = BaggingClassifier(\n",
        "    base_estimator=svc,\n",
        "    n_estimators=100,\n",
        "    max_samples=0.25,\n",
        "    bootstrap=True,\n",
        "    oob_score=True,\n",
        "    random_state=42\n",
        ")\n",
        "\n",
        "bag.fit(x_train,y_train)\n",
        "bag_pred=bag.predict(x_test)\n",
        "print(\"The accuracy is: \",accuracy_score(y_test,bag_pred))"
      ],
      "metadata": {
        "colab": {
          "base_uri": "https://localhost:8080/"
        },
        "id": "cM01LYfKdLQ7",
        "outputId": "9d7bc7ee-6744-4064-b27c-919ef091ee56"
      },
      "execution_count": 23,
      "outputs": [
        {
          "output_type": "stream",
          "name": "stdout",
          "text": [
            "The accuracy is:  0.954\n"
          ]
        }
      ]
    },
    {
      "cell_type": "code",
      "source": [
        "bag = BaggingClassifier(\n",
        "    base_estimator=dt,\n",
        "    n_estimators=100,\n",
        "    max_samples=0.25,\n",
        "    bootstrap=True,\n",
        "    oob_score=True,\n",
        "    random_state=42\n",
        ")\n",
        "\n",
        "bag.fit(x_train,y_train)\n",
        "bag_pred=bag.predict(x_test)\n",
        "print(\"The accuracy is: \",accuracy_score(y_test,bag_pred))"
      ],
      "metadata": {
        "colab": {
          "base_uri": "https://localhost:8080/"
        },
        "id": "NGo7YZg0eXTb",
        "outputId": "6c5faf20-c6cb-4b14-e7fc-7300ca93dc43"
      },
      "execution_count": 24,
      "outputs": [
        {
          "output_type": "stream",
          "name": "stdout",
          "text": [
            "The accuracy is:  0.956\n"
          ]
        }
      ]
    }
  ]
}
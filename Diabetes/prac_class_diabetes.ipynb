{
 "cells": [
  {
   "cell_type": "code",
   "execution_count": 69,
   "id": "e6282a5d",
   "metadata": {
    "ExecuteTime": {
     "end_time": "2022-03-29T06:35:41.468271Z",
     "start_time": "2022-03-29T06:35:41.449282Z"
    }
   },
   "outputs": [],
   "source": [
    "import pandas as pd \n",
    "import numpy as np\n",
    "from sklearn.model_selection import train_test_split\n",
    "from sklearn.model_selection import cross_val_score\n",
    "from sklearn.preprocessing import StandardScaler\n",
    "from sklearn.metrics import accuracy_score\n",
    "from sklearn.linear_model import LogisticRegression\n",
    "from sklearn import svm\n",
    "from sklearn.neighbors import KNeighborsClassifier\n",
    "from sklearn.ensemble import RandomForestClassifier\n",
    "from sklearn.model_selection import GridSearchCV"
   ]
  },
  {
   "cell_type": "code",
   "execution_count": 2,
   "id": "89cd5e15",
   "metadata": {
    "ExecuteTime": {
     "end_time": "2022-03-28T16:35:47.464385Z",
     "start_time": "2022-03-28T16:35:47.398488Z"
    }
   },
   "outputs": [
    {
     "data": {
      "text/html": [
       "<div>\n",
       "<style scoped>\n",
       "    .dataframe tbody tr th:only-of-type {\n",
       "        vertical-align: middle;\n",
       "    }\n",
       "\n",
       "    .dataframe tbody tr th {\n",
       "        vertical-align: top;\n",
       "    }\n",
       "\n",
       "    .dataframe thead th {\n",
       "        text-align: right;\n",
       "    }\n",
       "</style>\n",
       "<table border=\"1\" class=\"dataframe\">\n",
       "  <thead>\n",
       "    <tr style=\"text-align: right;\">\n",
       "      <th></th>\n",
       "      <th>Pregnancies</th>\n",
       "      <th>Glucose</th>\n",
       "      <th>BloodPressure</th>\n",
       "      <th>SkinThickness</th>\n",
       "      <th>Insulin</th>\n",
       "      <th>BMI</th>\n",
       "      <th>DiabetesPedigreeFunction</th>\n",
       "      <th>Age</th>\n",
       "      <th>Outcome</th>\n",
       "    </tr>\n",
       "  </thead>\n",
       "  <tbody>\n",
       "    <tr>\n",
       "      <th>0</th>\n",
       "      <td>6</td>\n",
       "      <td>148</td>\n",
       "      <td>72</td>\n",
       "      <td>35</td>\n",
       "      <td>0</td>\n",
       "      <td>33.6</td>\n",
       "      <td>0.627</td>\n",
       "      <td>50</td>\n",
       "      <td>1</td>\n",
       "    </tr>\n",
       "    <tr>\n",
       "      <th>1</th>\n",
       "      <td>1</td>\n",
       "      <td>85</td>\n",
       "      <td>66</td>\n",
       "      <td>29</td>\n",
       "      <td>0</td>\n",
       "      <td>26.6</td>\n",
       "      <td>0.351</td>\n",
       "      <td>31</td>\n",
       "      <td>0</td>\n",
       "    </tr>\n",
       "    <tr>\n",
       "      <th>2</th>\n",
       "      <td>8</td>\n",
       "      <td>183</td>\n",
       "      <td>64</td>\n",
       "      <td>0</td>\n",
       "      <td>0</td>\n",
       "      <td>23.3</td>\n",
       "      <td>0.672</td>\n",
       "      <td>32</td>\n",
       "      <td>1</td>\n",
       "    </tr>\n",
       "    <tr>\n",
       "      <th>3</th>\n",
       "      <td>1</td>\n",
       "      <td>89</td>\n",
       "      <td>66</td>\n",
       "      <td>23</td>\n",
       "      <td>94</td>\n",
       "      <td>28.1</td>\n",
       "      <td>0.167</td>\n",
       "      <td>21</td>\n",
       "      <td>0</td>\n",
       "    </tr>\n",
       "    <tr>\n",
       "      <th>4</th>\n",
       "      <td>0</td>\n",
       "      <td>137</td>\n",
       "      <td>40</td>\n",
       "      <td>35</td>\n",
       "      <td>168</td>\n",
       "      <td>43.1</td>\n",
       "      <td>2.288</td>\n",
       "      <td>33</td>\n",
       "      <td>1</td>\n",
       "    </tr>\n",
       "  </tbody>\n",
       "</table>\n",
       "</div>"
      ],
      "text/plain": [
       "   Pregnancies  Glucose  BloodPressure  SkinThickness  Insulin   BMI  \\\n",
       "0            6      148             72             35        0  33.6   \n",
       "1            1       85             66             29        0  26.6   \n",
       "2            8      183             64              0        0  23.3   \n",
       "3            1       89             66             23       94  28.1   \n",
       "4            0      137             40             35      168  43.1   \n",
       "\n",
       "   DiabetesPedigreeFunction  Age  Outcome  \n",
       "0                     0.627   50        1  \n",
       "1                     0.351   31        0  \n",
       "2                     0.672   32        1  \n",
       "3                     0.167   21        0  \n",
       "4                     2.288   33        1  "
      ]
     },
     "execution_count": 2,
     "metadata": {},
     "output_type": "execute_result"
    }
   ],
   "source": [
    "df=pd.read_csv('diabetes.csv')\n",
    "df.head()"
   ]
  },
  {
   "cell_type": "code",
   "execution_count": 3,
   "id": "b43c2a2c",
   "metadata": {
    "ExecuteTime": {
     "end_time": "2022-03-28T16:36:00.994483Z",
     "start_time": "2022-03-28T16:36:00.986489Z"
    }
   },
   "outputs": [
    {
     "data": {
      "text/plain": [
       "(768, 9)"
      ]
     },
     "execution_count": 3,
     "metadata": {},
     "output_type": "execute_result"
    }
   ],
   "source": [
    "df.shape"
   ]
  },
  {
   "cell_type": "code",
   "execution_count": 4,
   "id": "b8c19003",
   "metadata": {
    "ExecuteTime": {
     "end_time": "2022-03-28T16:36:15.846192Z",
     "start_time": "2022-03-28T16:36:15.823184Z"
    }
   },
   "outputs": [
    {
     "data": {
      "text/plain": [
       "Pregnancies                 0\n",
       "Glucose                     0\n",
       "BloodPressure               0\n",
       "SkinThickness               0\n",
       "Insulin                     0\n",
       "BMI                         0\n",
       "DiabetesPedigreeFunction    0\n",
       "Age                         0\n",
       "Outcome                     0\n",
       "dtype: int64"
      ]
     },
     "execution_count": 4,
     "metadata": {},
     "output_type": "execute_result"
    }
   ],
   "source": [
    "df.isna().sum()"
   ]
  },
  {
   "cell_type": "code",
   "execution_count": 5,
   "id": "9fc911b7",
   "metadata": {
    "ExecuteTime": {
     "end_time": "2022-03-28T16:36:24.403503Z",
     "start_time": "2022-03-28T16:36:24.383517Z"
    }
   },
   "outputs": [
    {
     "name": "stdout",
     "output_type": "stream",
     "text": [
      "<class 'pandas.core.frame.DataFrame'>\n",
      "RangeIndex: 768 entries, 0 to 767\n",
      "Data columns (total 9 columns):\n",
      " #   Column                    Non-Null Count  Dtype  \n",
      "---  ------                    --------------  -----  \n",
      " 0   Pregnancies               768 non-null    int64  \n",
      " 1   Glucose                   768 non-null    int64  \n",
      " 2   BloodPressure             768 non-null    int64  \n",
      " 3   SkinThickness             768 non-null    int64  \n",
      " 4   Insulin                   768 non-null    int64  \n",
      " 5   BMI                       768 non-null    float64\n",
      " 6   DiabetesPedigreeFunction  768 non-null    float64\n",
      " 7   Age                       768 non-null    int64  \n",
      " 8   Outcome                   768 non-null    int64  \n",
      "dtypes: float64(2), int64(7)\n",
      "memory usage: 54.1 KB\n"
     ]
    }
   ],
   "source": [
    "df.info()"
   ]
  },
  {
   "cell_type": "code",
   "execution_count": 6,
   "id": "bfb73f62",
   "metadata": {
    "ExecuteTime": {
     "end_time": "2022-03-28T16:36:47.034948Z",
     "start_time": "2022-03-28T16:36:47.016435Z"
    }
   },
   "outputs": [
    {
     "data": {
      "text/plain": [
       "0    500\n",
       "1    268\n",
       "Name: Outcome, dtype: int64"
      ]
     },
     "execution_count": 6,
     "metadata": {},
     "output_type": "execute_result"
    }
   ],
   "source": [
    "df.Outcome.value_counts()"
   ]
  },
  {
   "cell_type": "code",
   "execution_count": 7,
   "id": "0d2f8799",
   "metadata": {
    "ExecuteTime": {
     "end_time": "2022-03-28T16:37:30.075241Z",
     "start_time": "2022-03-28T16:37:30.065269Z"
    }
   },
   "outputs": [],
   "source": [
    "x=df.drop(\"Outcome\",axis=1)\n",
    "y=df.Outcome"
   ]
  },
  {
   "cell_type": "code",
   "execution_count": 10,
   "id": "f9272c15",
   "metadata": {
    "ExecuteTime": {
     "end_time": "2022-03-28T16:37:58.521519Z",
     "start_time": "2022-03-28T16:37:58.494537Z"
    }
   },
   "outputs": [
    {
     "data": {
      "text/html": [
       "<div>\n",
       "<style scoped>\n",
       "    .dataframe tbody tr th:only-of-type {\n",
       "        vertical-align: middle;\n",
       "    }\n",
       "\n",
       "    .dataframe tbody tr th {\n",
       "        vertical-align: top;\n",
       "    }\n",
       "\n",
       "    .dataframe thead th {\n",
       "        text-align: right;\n",
       "    }\n",
       "</style>\n",
       "<table border=\"1\" class=\"dataframe\">\n",
       "  <thead>\n",
       "    <tr style=\"text-align: right;\">\n",
       "      <th></th>\n",
       "      <th>Pregnancies</th>\n",
       "      <th>Glucose</th>\n",
       "      <th>BloodPressure</th>\n",
       "      <th>SkinThickness</th>\n",
       "      <th>Insulin</th>\n",
       "      <th>BMI</th>\n",
       "      <th>DiabetesPedigreeFunction</th>\n",
       "      <th>Age</th>\n",
       "    </tr>\n",
       "  </thead>\n",
       "  <tbody>\n",
       "    <tr>\n",
       "      <th>0</th>\n",
       "      <td>6</td>\n",
       "      <td>148</td>\n",
       "      <td>72</td>\n",
       "      <td>35</td>\n",
       "      <td>0</td>\n",
       "      <td>33.6</td>\n",
       "      <td>0.627</td>\n",
       "      <td>50</td>\n",
       "    </tr>\n",
       "    <tr>\n",
       "      <th>1</th>\n",
       "      <td>1</td>\n",
       "      <td>85</td>\n",
       "      <td>66</td>\n",
       "      <td>29</td>\n",
       "      <td>0</td>\n",
       "      <td>26.6</td>\n",
       "      <td>0.351</td>\n",
       "      <td>31</td>\n",
       "    </tr>\n",
       "    <tr>\n",
       "      <th>2</th>\n",
       "      <td>8</td>\n",
       "      <td>183</td>\n",
       "      <td>64</td>\n",
       "      <td>0</td>\n",
       "      <td>0</td>\n",
       "      <td>23.3</td>\n",
       "      <td>0.672</td>\n",
       "      <td>32</td>\n",
       "    </tr>\n",
       "    <tr>\n",
       "      <th>3</th>\n",
       "      <td>1</td>\n",
       "      <td>89</td>\n",
       "      <td>66</td>\n",
       "      <td>23</td>\n",
       "      <td>94</td>\n",
       "      <td>28.1</td>\n",
       "      <td>0.167</td>\n",
       "      <td>21</td>\n",
       "    </tr>\n",
       "    <tr>\n",
       "      <th>4</th>\n",
       "      <td>0</td>\n",
       "      <td>137</td>\n",
       "      <td>40</td>\n",
       "      <td>35</td>\n",
       "      <td>168</td>\n",
       "      <td>43.1</td>\n",
       "      <td>2.288</td>\n",
       "      <td>33</td>\n",
       "    </tr>\n",
       "  </tbody>\n",
       "</table>\n",
       "</div>"
      ],
      "text/plain": [
       "   Pregnancies  Glucose  BloodPressure  SkinThickness  Insulin   BMI  \\\n",
       "0            6      148             72             35        0  33.6   \n",
       "1            1       85             66             29        0  26.6   \n",
       "2            8      183             64              0        0  23.3   \n",
       "3            1       89             66             23       94  28.1   \n",
       "4            0      137             40             35      168  43.1   \n",
       "\n",
       "   DiabetesPedigreeFunction  Age  \n",
       "0                     0.627   50  \n",
       "1                     0.351   31  \n",
       "2                     0.672   32  \n",
       "3                     0.167   21  \n",
       "4                     2.288   33  "
      ]
     },
     "execution_count": 10,
     "metadata": {},
     "output_type": "execute_result"
    }
   ],
   "source": [
    "x.head()"
   ]
  },
  {
   "cell_type": "code",
   "execution_count": 11,
   "id": "686de7f5",
   "metadata": {
    "ExecuteTime": {
     "end_time": "2022-03-28T16:38:04.499479Z",
     "start_time": "2022-03-28T16:38:04.482490Z"
    }
   },
   "outputs": [
    {
     "data": {
      "text/plain": [
       "0    1\n",
       "1    0\n",
       "2    1\n",
       "3    0\n",
       "4    1\n",
       "Name: Outcome, dtype: int64"
      ]
     },
     "execution_count": 11,
     "metadata": {},
     "output_type": "execute_result"
    }
   ],
   "source": [
    "y.head()"
   ]
  },
  {
   "cell_type": "code",
   "execution_count": 12,
   "id": "bb1a3e85",
   "metadata": {
    "ExecuteTime": {
     "end_time": "2022-03-28T16:39:06.685568Z",
     "start_time": "2022-03-28T16:39:06.667579Z"
    }
   },
   "outputs": [],
   "source": [
    "x_train,x_test,y_train,y_test=train_test_split(x,y,test_size=0.2,stratify=y,random_state=7)"
   ]
  },
  {
   "cell_type": "code",
   "execution_count": 13,
   "id": "dc9a7fa8",
   "metadata": {
    "ExecuteTime": {
     "end_time": "2022-03-28T16:39:23.304882Z",
     "start_time": "2022-03-28T16:39:23.296888Z"
    }
   },
   "outputs": [
    {
     "data": {
      "text/plain": [
       "((614, 8), (154, 8))"
      ]
     },
     "execution_count": 13,
     "metadata": {},
     "output_type": "execute_result"
    }
   ],
   "source": [
    "x_train.shape,x_test.shape"
   ]
  },
  {
   "cell_type": "code",
   "execution_count": 14,
   "id": "ec84f3b9",
   "metadata": {
    "ExecuteTime": {
     "end_time": "2022-03-28T16:39:42.446280Z",
     "start_time": "2022-03-28T16:39:42.430290Z"
    }
   },
   "outputs": [],
   "source": [
    "scalar=StandardScaler()"
   ]
  },
  {
   "cell_type": "code",
   "execution_count": 15,
   "id": "bba0f7e7",
   "metadata": {
    "ExecuteTime": {
     "end_time": "2022-03-28T16:40:13.575032Z",
     "start_time": "2022-03-28T16:40:13.563020Z"
    }
   },
   "outputs": [],
   "source": [
    "scaled_x=scalar.fit_transform(x_train)"
   ]
  },
  {
   "cell_type": "code",
   "execution_count": 16,
   "id": "b1e44320",
   "metadata": {
    "ExecuteTime": {
     "end_time": "2022-03-28T16:40:19.172394Z",
     "start_time": "2022-03-28T16:40:19.160401Z"
    }
   },
   "outputs": [
    {
     "data": {
      "text/plain": [
       "array([[ 0.62130646,  0.81256115,  0.56283867, ..., -0.34265683,\n",
       "        -0.86390912,  1.44369523],\n",
       "       [ 0.91565998, -0.74644312,  0.360891  , ...,  1.13150466,\n",
       "         1.15523376, -0.11250488],\n",
       "       [ 0.62130646,  0.09541919,  0.15894334, ..., -0.58835041,\n",
       "        -0.31032016, -0.37187156],\n",
       "       ...,\n",
       "       [ 1.50436703,  1.96622431,  0.81527325, ..., -0.27800062,\n",
       "         2.15169389,  1.35723966],\n",
       "       [-0.85046116,  0.99964166,  0.6638125 , ...,  1.09271094,\n",
       "         0.61912656, -0.89060493],\n",
       "       [-1.14481468, -0.40346218, -0.04300433, ..., -0.62714414,\n",
       "         0.91048917, -0.11250488]])"
      ]
     },
     "execution_count": 16,
     "metadata": {},
     "output_type": "execute_result"
    }
   ],
   "source": [
    "scaled_x"
   ]
  },
  {
   "cell_type": "code",
   "execution_count": 18,
   "id": "1457cb70",
   "metadata": {
    "ExecuteTime": {
     "end_time": "2022-03-28T16:41:14.658592Z",
     "start_time": "2022-03-28T16:41:14.605611Z"
    }
   },
   "outputs": [
    {
     "data": {
      "text/plain": [
       "LogisticRegression()"
      ]
     },
     "execution_count": 18,
     "metadata": {},
     "output_type": "execute_result"
    }
   ],
   "source": [
    "model=LogisticRegression()\n",
    "model.fit(scaled_x,y_train)"
   ]
  },
  {
   "cell_type": "code",
   "execution_count": 20,
   "id": "ced575b0",
   "metadata": {
    "ExecuteTime": {
     "end_time": "2022-03-28T16:41:46.878394Z",
     "start_time": "2022-03-28T16:41:46.869399Z"
    }
   },
   "outputs": [],
   "source": [
    "y_train_pred=model.predict(scaled_x)"
   ]
  },
  {
   "cell_type": "code",
   "execution_count": 21,
   "id": "6241b391",
   "metadata": {
    "ExecuteTime": {
     "end_time": "2022-03-28T16:42:09.074477Z",
     "start_time": "2022-03-28T16:42:09.063482Z"
    }
   },
   "outputs": [
    {
     "data": {
      "text/plain": [
       "0.7785016286644951"
      ]
     },
     "execution_count": 21,
     "metadata": {},
     "output_type": "execute_result"
    }
   ],
   "source": [
    "accuracy_score(y_train,y_train_pred)  #77% accuracy for the train data"
   ]
  },
  {
   "cell_type": "code",
   "execution_count": 25,
   "id": "af9fe7e7",
   "metadata": {
    "ExecuteTime": {
     "end_time": "2022-03-28T16:44:37.148951Z",
     "start_time": "2022-03-28T16:44:37.124964Z"
    }
   },
   "outputs": [
    {
     "data": {
      "text/plain": [
       "LogisticRegression()"
      ]
     },
     "execution_count": 25,
     "metadata": {},
     "output_type": "execute_result"
    }
   ],
   "source": [
    "scaled_x_test=scalar.transform(x_test)\n",
    "model.fit(scaled_x_test,y_test)"
   ]
  },
  {
   "cell_type": "code",
   "execution_count": 27,
   "id": "0c67cd3e",
   "metadata": {
    "ExecuteTime": {
     "end_time": "2022-03-28T16:45:31.174871Z",
     "start_time": "2022-03-28T16:45:31.167874Z"
    }
   },
   "outputs": [],
   "source": [
    "y_test_pred=model.predict(scaled_x_test)"
   ]
  },
  {
   "cell_type": "code",
   "execution_count": 29,
   "id": "81b67ad9",
   "metadata": {
    "ExecuteTime": {
     "end_time": "2022-03-28T16:46:34.352667Z",
     "start_time": "2022-03-28T16:46:34.340695Z"
    }
   },
   "outputs": [
    {
     "data": {
      "text/plain": [
       "0.8181818181818182"
      ]
     },
     "execution_count": 29,
     "metadata": {},
     "output_type": "execute_result"
    }
   ],
   "source": [
    "accuracy_score(y_test,y_test_pred)    #81% accuracy for the test data"
   ]
  },
  {
   "cell_type": "code",
   "execution_count": 33,
   "id": "b12539ec",
   "metadata": {
    "ExecuteTime": {
     "end_time": "2022-03-28T16:58:38.578905Z",
     "start_time": "2022-03-28T16:58:38.564891Z"
    }
   },
   "outputs": [],
   "source": [
    "model=svm.SVC(kernel='linear')"
   ]
  },
  {
   "cell_type": "code",
   "execution_count": 34,
   "id": "3f6d8ae6",
   "metadata": {
    "ExecuteTime": {
     "end_time": "2022-03-28T16:59:20.646453Z",
     "start_time": "2022-03-28T16:59:20.597461Z"
    }
   },
   "outputs": [
    {
     "data": {
      "text/plain": [
       "0.7817589576547231"
      ]
     },
     "execution_count": 34,
     "metadata": {},
     "output_type": "execute_result"
    }
   ],
   "source": [
    "model.fit(scaled_x,y_train)\n",
    "y_train_pred=model.predict(scaled_x)\n",
    "accuracy_score(y_train,y_train_pred)    #78% percent accuracy for the train data using SVM classifier"
   ]
  },
  {
   "cell_type": "code",
   "execution_count": 36,
   "id": "ef318ed4",
   "metadata": {
    "ExecuteTime": {
     "end_time": "2022-03-28T17:02:05.104560Z",
     "start_time": "2022-03-28T17:02:05.081572Z"
    }
   },
   "outputs": [
    {
     "data": {
      "text/plain": [
       "0.7792207792207793"
      ]
     },
     "execution_count": 36,
     "metadata": {},
     "output_type": "execute_result"
    }
   ],
   "source": [
    "y_test_pred=model.predict(scaled_x_test)\n",
    "accuracy_score(y_test,y_test_pred)    #77% percent accuracy for the test data using SVM classifier"
   ]
  },
  {
   "cell_type": "code",
   "execution_count": 41,
   "id": "06d0c9f0",
   "metadata": {
    "ExecuteTime": {
     "end_time": "2022-03-28T17:05:55.731103Z",
     "start_time": "2022-03-28T17:05:55.713112Z"
    }
   },
   "outputs": [
    {
     "name": "stdout",
     "output_type": "stream",
     "text": [
      "[1]\n"
     ]
    }
   ],
   "source": [
    "ip=0,137,40,35,168,43.1,2.288,33\n",
    "ip=np.asarray(ip)\n",
    "ip=ip.reshape(1,-1)\n",
    "prediction=model.predict(ip)\n",
    "print(prediction)"
   ]
  },
  {
   "cell_type": "code",
   "execution_count": 42,
   "id": "789daa29",
   "metadata": {
    "ExecuteTime": {
     "end_time": "2022-03-28T17:07:26.470449Z",
     "start_time": "2022-03-28T17:07:26.451459Z"
    }
   },
   "outputs": [
    {
     "name": "stdout",
     "output_type": "stream",
     "text": [
      "This person has diabetes\n"
     ]
    }
   ],
   "source": [
    "if predction[0] == 1:\n",
    "    print(\"This person has diabetes\")\n",
    "else:\n",
    "    print(\"This person has no diabetes\")"
   ]
  },
  {
   "cell_type": "code",
   "execution_count": 47,
   "id": "d0864643",
   "metadata": {
    "ExecuteTime": {
     "end_time": "2022-03-29T05:53:15.258254Z",
     "start_time": "2022-03-29T05:53:15.245260Z"
    }
   },
   "outputs": [],
   "source": [
    "scaled_x=scalar.fit_transform(x)"
   ]
  },
  {
   "cell_type": "code",
   "execution_count": 44,
   "id": "3aa52bde",
   "metadata": {
    "ExecuteTime": {
     "end_time": "2022-03-29T05:51:05.457889Z",
     "start_time": "2022-03-29T05:51:05.437900Z"
    }
   },
   "outputs": [],
   "source": [
    "models=[LogisticRegression(),svm.SVC(),KNeighborsClassifier(),RandomForestClassifier()]"
   ]
  },
  {
   "cell_type": "code",
   "execution_count": 59,
   "id": "bdad96fa",
   "metadata": {
    "ExecuteTime": {
     "end_time": "2022-03-29T06:08:21.345794Z",
     "start_time": "2022-03-29T06:08:19.931916Z"
    }
   },
   "outputs": [
    {
     "name": "stdout",
     "output_type": "stream",
     "text": [
      "LogisticRegression() [0.77272727 0.74675325 0.75324675 0.81699346 0.76470588]\n",
      "LogisticRegression() : 77.09\n",
      "SVC() [0.76623377 0.75324675 0.74675325 0.81045752 0.77777778]\n",
      "SVC() : 77.09\n",
      "KNeighborsClassifier() [0.72077922 0.73376623 0.71428571 0.77124183 0.7254902 ]\n",
      "KNeighborsClassifier() : 73.31\n",
      "RandomForestClassifier() [0.77272727 0.73376623 0.75324675 0.81699346 0.78431373]\n",
      "RandomForestClassifier() : 77.22\n"
     ]
    }
   ],
   "source": [
    "for model in models:\n",
    "    \n",
    "    c_score=cross_val_score(model,scaled_x,y,cv=5)\n",
    "    mean_score=round(np.average(c_score)*100,2)\n",
    "    print(model,c_score)\n",
    "    print(model,':',mean_score)"
   ]
  },
  {
   "cell_type": "markdown",
   "id": "26739caa",
   "metadata": {
    "ExecuteTime": {
     "end_time": "2022-03-29T05:59:21.075287Z",
     "start_time": "2022-03-29T05:59:21.057297Z"
    }
   },
   "source": [
    "### SCV and LogisticRegression gives the better accuracy than the other model choosed"
   ]
  },
  {
   "cell_type": "code",
   "execution_count": 65,
   "id": "855b8277",
   "metadata": {
    "ExecuteTime": {
     "end_time": "2022-03-29T06:34:40.711722Z",
     "start_time": "2022-03-29T06:34:40.695732Z"
    }
   },
   "outputs": [],
   "source": [
    "model_params = {\n",
    "    'svm': {\n",
    "        'model': svm.SVC(gamma='auto'),\n",
    "        'params' : {\n",
    "            'C': [1,10,20],\n",
    "            'kernel': ['linear', 'poly', 'rbf', 'sigmoid']\n",
    "        }  \n",
    "    },\n",
    "    'random_forest': {\n",
    "        'model': RandomForestClassifier(),\n",
    "        'params' : {\n",
    "            'n_estimators': [1,5,10]\n",
    "        }\n",
    "    },\n",
    "    'logistic_regression' : {\n",
    "        'model': LogisticRegression(solver='liblinear'),\n",
    "        'params': {\n",
    "            'C': [1,5,10]\n",
    "        }\n",
    "    }\n",
    "}"
   ]
  },
  {
   "cell_type": "code",
   "execution_count": 66,
   "id": "0e08c65a",
   "metadata": {
    "ExecuteTime": {
     "end_time": "2022-03-29T06:34:42.553770Z",
     "start_time": "2022-03-29T06:34:42.529785Z"
    }
   },
   "outputs": [
    {
     "data": {
      "text/plain": [
       "{'svm': {'model': SVC(gamma='auto'),\n",
       "  'params': {'C': [1, 10, 20],\n",
       "   'kernel': ['linear', 'poly', 'rbf', 'sigmoid']}},\n",
       " 'random_forest': {'model': RandomForestClassifier(),\n",
       "  'params': {'n_estimators': [1, 5, 10]}},\n",
       " 'logistic_regression': {'model': LogisticRegression(solver='liblinear'),\n",
       "  'params': {'C': [1, 5, 10]}}}"
      ]
     },
     "execution_count": 66,
     "metadata": {},
     "output_type": "execute_result"
    }
   ],
   "source": [
    "model_params"
   ]
  },
  {
   "cell_type": "code",
   "execution_count": 67,
   "id": "135af8d0",
   "metadata": {
    "ExecuteTime": {
     "end_time": "2022-03-29T06:34:47.422999Z",
     "start_time": "2022-03-29T06:34:47.401174Z"
    }
   },
   "outputs": [
    {
     "data": {
      "text/plain": [
       "dict_items([('svm', {'model': SVC(gamma='auto'), 'params': {'C': [1, 10, 20], 'kernel': ['linear', 'poly', 'rbf', 'sigmoid']}}), ('random_forest', {'model': RandomForestClassifier(), 'params': {'n_estimators': [1, 5, 10]}}), ('logistic_regression', {'model': LogisticRegression(solver='liblinear'), 'params': {'C': [1, 5, 10]}})])"
      ]
     },
     "execution_count": 67,
     "metadata": {},
     "output_type": "execute_result"
    }
   ],
   "source": [
    "model_params.items()"
   ]
  },
  {
   "cell_type": "code",
   "execution_count": 71,
   "id": "300c2a10",
   "metadata": {
    "ExecuteTime": {
     "end_time": "2022-03-29T06:36:34.128915Z",
     "start_time": "2022-03-29T06:36:31.719291Z"
    }
   },
   "outputs": [
    {
     "data": {
      "text/html": [
       "<div>\n",
       "<style scoped>\n",
       "    .dataframe tbody tr th:only-of-type {\n",
       "        vertical-align: middle;\n",
       "    }\n",
       "\n",
       "    .dataframe tbody tr th {\n",
       "        vertical-align: top;\n",
       "    }\n",
       "\n",
       "    .dataframe thead th {\n",
       "        text-align: right;\n",
       "    }\n",
       "</style>\n",
       "<table border=\"1\" class=\"dataframe\">\n",
       "  <thead>\n",
       "    <tr style=\"text-align: right;\">\n",
       "      <th></th>\n",
       "      <th>model</th>\n",
       "      <th>best_score</th>\n",
       "      <th>best_params</th>\n",
       "    </tr>\n",
       "  </thead>\n",
       "  <tbody>\n",
       "    <tr>\n",
       "      <th>0</th>\n",
       "      <td>svm</td>\n",
       "      <td>77.348273</td>\n",
       "      <td>{'C': 1, 'kernel': 'linear'}</td>\n",
       "    </tr>\n",
       "    <tr>\n",
       "      <th>1</th>\n",
       "      <td>random_forest</td>\n",
       "      <td>73.182243</td>\n",
       "      <td>{'n_estimators': 5}</td>\n",
       "    </tr>\n",
       "    <tr>\n",
       "      <th>2</th>\n",
       "      <td>logistic_regression</td>\n",
       "      <td>77.088532</td>\n",
       "      <td>{'C': 1}</td>\n",
       "    </tr>\n",
       "  </tbody>\n",
       "</table>\n",
       "</div>"
      ],
      "text/plain": [
       "                 model  best_score                   best_params\n",
       "0                  svm   77.348273  {'C': 1, 'kernel': 'linear'}\n",
       "1        random_forest   73.182243           {'n_estimators': 5}\n",
       "2  logistic_regression   77.088532                      {'C': 1}"
      ]
     },
     "execution_count": 71,
     "metadata": {},
     "output_type": "execute_result"
    }
   ],
   "source": [
    "scores = []\n",
    "\n",
    "for model_name, mp in model_params.items():\n",
    "    clf =  GridSearchCV(mp['model'], mp['params'], cv=5, return_train_score=False)\n",
    "    clf.fit(scaled_x, y)\n",
    "    scores.append({\n",
    "        'model': model_name,\n",
    "        'best_score': clf.best_score_*100,\n",
    "        'best_params': clf.best_params_\n",
    "    })\n",
    "    \n",
    "df = pd.DataFrame(scores,columns=['model','best_score','best_params'])\n",
    "df"
   ]
  },
  {
   "cell_type": "markdown",
   "id": "d97107d3",
   "metadata": {},
   "source": [
    "### svm gives the better results compared to the other model"
   ]
  }
 ],
 "metadata": {
  "kernelspec": {
   "display_name": "Python 3 (ipykernel)",
   "language": "python",
   "name": "python3"
  },
  "language_info": {
   "codemirror_mode": {
    "name": "ipython",
    "version": 3
   },
   "file_extension": ".py",
   "mimetype": "text/x-python",
   "name": "python",
   "nbconvert_exporter": "python",
   "pygments_lexer": "ipython3",
   "version": "3.9.7"
  },
  "varInspector": {
   "cols": {
    "lenName": 16,
    "lenType": 16,
    "lenVar": 40
   },
   "kernels_config": {
    "python": {
     "delete_cmd_postfix": "",
     "delete_cmd_prefix": "del ",
     "library": "var_list.py",
     "varRefreshCmd": "print(var_dic_list())"
    },
    "r": {
     "delete_cmd_postfix": ") ",
     "delete_cmd_prefix": "rm(",
     "library": "var_list.r",
     "varRefreshCmd": "cat(var_dic_list()) "
    }
   },
   "types_to_exclude": [
    "module",
    "function",
    "builtin_function_or_method",
    "instance",
    "_Feature"
   ],
   "window_display": false
  }
 },
 "nbformat": 4,
 "nbformat_minor": 5
}
